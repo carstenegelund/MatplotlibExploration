{
  "nbformat": 4,
  "nbformat_minor": 0,
  "metadata": {
    "colab": {
      "provenance": [],
      "authorship_tag": "ABX9TyPEVsfBU7OQNGSL2+AyIH5s",
      "include_colab_link": true
    },
    "kernelspec": {
      "name": "python3",
      "display_name": "Python 3"
    },
    "language_info": {
      "name": "python"
    }
  },
  "cells": [
    {
      "cell_type": "markdown",
      "metadata": {
        "id": "view-in-github",
        "colab_type": "text"
      },
      "source": [
        "<a href=\"https://colab.research.google.com/github/carstenegelund/MatplotlibExploration/blob/main/MatplotlibCheatSheet.ipynb\" target=\"_parent\"><img src=\"https://colab.research.google.com/assets/colab-badge.svg\" alt=\"Open In Colab\"/></a>"
      ]
    },
    {
      "cell_type": "code",
      "execution_count": 79,
      "metadata": {
        "id": "sdUmB33hIOwp"
      },
      "outputs": [],
      "source": [
        "# load package\n",
        "import matplotlib as mpl\n",
        "%matplotlib inline\n",
        "import matplotlib.pyplot as plt\n",
        "from matplotlib.ticker import MultipleLocator,FormatStrFormatter,MaxNLocator"
      ]
    },
    {
      "cell_type": "code",
      "source": [
        "a = mpl.rcParams.keys"
      ],
      "metadata": {
        "id": "WhNYDRrKInS6"
      },
      "execution_count": 35,
      "outputs": []
    },
    {
      "cell_type": "code",
      "source": [
        "# create a canvas\n",
        "fig = plt.figure(figsize=(10,6))\n",
        "\n",
        "# create a figure\n",
        "ax = plt.axes((0.1,0.1,0.5,0.8))"
      ],
      "metadata": {
        "colab": {
          "base_uri": "https://localhost:8080/",
          "height": 397
        },
        "id": "NbrIzN_KMvLe",
        "outputId": "d8c49d1b-d38b-4973-f826-c328ebab69b9"
      },
      "execution_count": 83,
      "outputs": [
        {
          "output_type": "display_data",
          "data": {
            "text/plain": [
              "<Figure size 720x432 with 1 Axes>"
            ],
            "image/png": "[encoded data removed]"
          },
          "metadata": {
            "needs_background": "light"
          }
        }
      ]
    },
    {
      "cell_type": "code",
      "source": [
        "ax.spines['right'].set_visible(False)\n",
        "ax.spines['left'].set_visible(False)\n",
        "ax.spines['bottom'].set_visible(False)\n",
        "ax.spines['top'].set_visible(False)"
      ],
      "metadata": {
        "id": "hFa6mQ68MwXQ"
      },
      "execution_count": 84,
      "outputs": []
    },
    {
      "cell_type": "code",
      "source": [
        "ax.tick_params(axis='x',which='major',direction='out',length=10,width=5,color='red',pad=15,labelsize=15,labelcolor='green',\n",
        "               labelrotation=15)"
      ],
      "metadata": {
        "id": "xNaQgqlGN4VC"
      },
      "execution_count": 85,
      "outputs": []
    },
    {
      "cell_type": "code",
      "source": [
        "ax.set_xticks([0.2,1])\n",
        "ax.set_xticklabels(['pos1','pos2'])"
      ],
      "metadata": {
        "colab": {
          "base_uri": "https://localhost:8080/"
        },
        "id": "FG_ghZ2DPJlG",
        "outputId": "b2674f18-e32e-45cf-9134-4cbdd1d46551"
      },
      "execution_count": 86,
      "outputs": [
        {
          "output_type": "execute_result",
          "data": {
            "text/plain": [
              "[Text(0.0, 0, 'pos1'), Text(0.2, 0, 'pos2')]"
            ]
          },
          "metadata": {},
          "execution_count": 86
        }
      ]
    },
    {
      "cell_type": "code",
      "source": [
        "ax.yaxis.set_major_locator(MultipleLocator(0.5))\n",
        "ax.yaxis.set_minor_locator(MultipleLocator(0.1))\n",
        "a=ax.yaxis.get_major_locator()\n",
        "b=ax.yaxis.get_major_formatter()"
      ],
      "metadata": {
        "id": "a7bYfd0edChi"
      },
      "execution_count": 90,
      "outputs": []
    },
    {
      "cell_type": "code",
      "source": [
        "ax.grid(True,which='major',axis='both',alpha=0.3)"
      ],
      "metadata": {
        "id": "DaBbCqBhdx0B"
      },
      "execution_count": 92,
      "outputs": []
    },
    {
      "cell_type": "code",
      "source": [
        "fig"
      ],
      "metadata": {
        "id": "EXYZvsYfRbP-"
      },
      "execution_count": null,
      "outputs": []
    },
    {
      "cell_type": "code",
      "source": [
        "fig,axes = plt.subplots(nrows=4,ncols=4,figsize=(10,6))"
      ],
      "metadata": {
        "colab": {
          "base_uri": "https://localhost:8080/",
          "height": 378
        },
        "id": "7QEPWDDtfuRc",
        "outputId": "ab8bb981-e8e5-451e-8e83-0b8ba2417fbd"
      },
      "execution_count": 95,
      "outputs": [
        {
          "output_type": "display_data",
          "data": {
            "text/plain": [
              "<Figure size 720x432 with 16 Axes>"
            ],
            "image/png": "[encoded data removed]"
          },
          "metadata": {
            "needs_background": "light"
          }
        }
      ]
    },
    {
      "cell_type": "code",
      "source": [
        "fig,axes = plt.subplots(nrows=4,ncols=4,figsize=(10,6),gridspec_kw={'wspace':0.5,'hspace':0.5})\n"
      ],
      "metadata": {
        "colab": {
          "base_uri": "https://localhost:8080/",
          "height": 378
        },
        "id": "azC9swIcgC6t",
        "outputId": "ff785522-7ead-42fe-9dbc-5b5d9b929e1b"
      },
      "execution_count": 97,
      "outputs": [
        {
          "output_type": "display_data",
          "data": {
            "text/plain": [
              "<Figure size 720x432 with 16 Axes>"
            ],
            "image/png": "[encoded data removed]"
          },
          "metadata": {
            "needs_background": "light"
          }
        }
      ]
    },
    {
      "cell_type": "markdown",
      "source": [
        "LINE PLOT"
      ],
      "metadata": {
        "id": "k4BIYyru1ECc"
      }
    },
    {
      "cell_type": "code",
      "source": [
        "# load packages\n",
        "import matplotlib as mpl\n",
        "import matplotlib.pyplot as plt\n",
        "import numpy as np\n",
        "\n",
        "# modify global setting\n",
        "mpl.rcParams['pdf.fonttype'] = 42\n",
        "mpl.rcParams['ps.fonttype'] = 42\n",
        "mpl.rcParams['font.family'] = 'Arial'\n",
        "\n",
        "# prepare some data\n",
        "np.random.seed(42)\n",
        "x = np.arange(1,11,1)\n",
        "y1 = np.linspace(300,400,10)\n",
        "y2 = np.random.randint(low=300,high=400,size=10)"
      ],
      "metadata": {
        "id": "nGWDkm8VglRk"
      },
      "execution_count": 2,
      "outputs": []
    },
    {
      "cell_type": "code",
      "source": [
        "fig = plt.figure(figsize=(10,6))\n",
        "ax = fig.add_axes([0.1,0.1,0.5,0.8])\n",
        "artistobj1 = ax.plot(x,y1,   # data\n",
        "                    marker='o',     # each marker will be rendered as a circle\n",
        "                    markersize=8,   # marker size\n",
        "                    markerfacecolor='red',   # marker facecolor\n",
        "                    markeredgecolor='black',  # marker edgecolor\n",
        "                    markeredgewidth=2,       # marker edge width\n",
        "                    linestyle='--',            # line style will be dash line\n",
        "                    linewidth=3,          # line width\n",
        "                    zorder=3,         # \"send to front, send to back\". Higher number comes to front\n",
        "                    color=\"cadetblue\",  # line color\n",
        "                    label='blue line')  #label for a legend         \n",
        "\n",
        "artistobj2 = ax.plot(x,y2,marker='o', color=\"orange\", label =\"orange line\")\n",
        "\n",
        "ax.legend(handles=[artistobj1[0],artistobj2[0]],labels=['blue line','orange line'],\n",
        "          loc='upper left', #anchor point for the legend box\n",
        "          bbox_to_anchor=(0.7,0.15), #anchor point for where on the canvas\n",
        "          title='legend',\n",
        "          frameon=False)"
      ],
      "metadata": {
        "colab": {
          "base_uri": "https://localhost:8080/",
          "height": 411
        },
        "id": "M96V8WmqgxAA",
        "outputId": "e1fc74ee-0ca1-41ec-d5ea-effe9fb6f968"
      },
      "execution_count": 27,
      "outputs": [
        {
          "output_type": "execute_result",
          "data": {
            "text/plain": [
              "<matplotlib.legend.Legend at 0x7fee20ab89a0>"
            ]
          },
          "metadata": {},
          "execution_count": 27
        },
        {
          "output_type": "display_data",
          "data": {
            "text/plain": [
              "<Figure size 720x432 with 1 Axes>"
            ],
            "image/png": "[encoded data removed]"
          },
          "metadata": {
            "needs_background": "light"
          }
        }
      ]
    },
    {
      "cell_type": "markdown",
      "source": [
        "To see all color options: https://matplotlib.org/3.1.0/gallery/color/named_colors.html"
      ],
      "metadata": {
        "id": "lmy63RL2tLlg"
      }
    },
    {
      "cell_type": "markdown",
      "source": [
        "BOX PLOT"
      ],
      "metadata": {
        "id": "0UjjmJyS1MVv"
      }
    },
    {
      "cell_type": "code",
      "source": [
        "# load packages\n",
        "import matplotlib as mpl\n",
        "import matplotlib.pyplot as plt\n",
        "import numpy as np\n",
        "# prepare some data\n",
        "np.random.seed(42)\n",
        "data1 = np.random.randn(100)\n",
        "data2 = np.random.randn(100)\n",
        "data3 = np.random.randn(100)\n",
        "\n",
        "fig,ax = plt.subplots()\n",
        "bp = ax.boxplot(x=[data1,data2,data3],  # sequence of arrays\n",
        "positions=[1,5,7],   # where to put these arrays\n",
        "patch_artist=True)  # allow filling the box with colors"
      ],
      "metadata": {
        "colab": {
          "base_uri": "https://localhost:8080/",
          "height": 265
        },
        "id": "jaYYnIuT1MHU",
        "outputId": "811479d8-88a9-40fc-c06f-19d2f2796140"
      },
      "execution_count": 13,
      "outputs": [
        {
          "output_type": "display_data",
          "data": {
            "text/plain": [
              "<Figure size 432x288 with 1 Axes>"
            ],
            "image/png": "[encoded data removed]"
          },
          "metadata": {
            "needs_background": "light"
          }
        }
      ]
    },
    {
      "cell_type": "code",
      "source": [
        "print(bp) #returns a dict of all object elements in the ax created by a the ax.boxplot() function"
      ],
      "metadata": {
        "colab": {
          "base_uri": "https://localhost:8080/"
        },
        "id": "MkxVDGFV5qoo",
        "outputId": "773d1624-e5da-4e20-80e5-34eb93d04b4a"
      },
      "execution_count": 14,
      "outputs": [
        {
          "output_type": "stream",
          "name": "stdout",
          "text": [
            "{'whiskers': [<matplotlib.lines.Line2D object at 0x7fb70dec9df0>, <matplotlib.lines.Line2D object at 0x7fb70ded9190>, <matplotlib.lines.Line2D object at 0x7fb70dee54c0>, <matplotlib.lines.Line2D object at 0x7fb70dee5820>, <matplotlib.lines.Line2D object at 0x7fb70deeeb50>, <matplotlib.lines.Line2D object at 0x7fb70deeeeb0>], 'caps': [<matplotlib.lines.Line2D object at 0x7fb70ded94f0>, <matplotlib.lines.Line2D object at 0x7fb70ded9850>, <matplotlib.lines.Line2D object at 0x7fb70dee5b80>, <matplotlib.lines.Line2D object at 0x7fb70dee5ee0>, <matplotlib.lines.Line2D object at 0x7fb70defa250>, <matplotlib.lines.Line2D object at 0x7fb70defa5b0>], 'boxes': [<matplotlib.patches.PathPatch object at 0x7fb70dec9a60>, <matplotlib.patches.PathPatch object at 0x7fb70dee5100>, <matplotlib.patches.PathPatch object at 0x7fb70deee790>], 'medians': [<matplotlib.lines.Line2D object at 0x7fb70ded9bb0>, <matplotlib.lines.Line2D object at 0x7fb70deee280>, <matplotlib.lines.Line2D object at 0x7fb70defa910>], 'fliers': [<matplotlib.lines.Line2D object at 0x7fb70ded9eb0>, <matplotlib.lines.Line2D object at 0x7fb70deee580>, <matplotlib.lines.Line2D object at 0x7fb70defac10>], 'means': []}\n"
          ]
        }
      ]
    },
    {
      "cell_type": "code",
      "source": [
        "for flier in bp['fliers']:    # outliers\n",
        "    flier.set_markersize(9)\n",
        "    flier.set_marker('v')\n",
        "for box in bp['boxes']:     # box bodys\n",
        "    box.set_facecolor('green')\n",
        "    box.set_edgecolor('black')\n",
        "    box.set_linewidth(2)\n",
        "for whisker in bp['whiskers']:   # whisker line\n",
        "    whisker.set_linewidth(5)\n",
        "for cap in bp['caps']:     # cap line\n",
        "    cap.set_color('red')\n",
        "    cap.set_linewidth(10)\n",
        "for median in bp['medians']:   # median line\n",
        "    median.set_linewidth(15)\n",
        "fig"
      ],
      "metadata": {
        "colab": {
          "base_uri": "https://localhost:8080/",
          "height": 265
        },
        "id": "1mKFu6gx5PKd",
        "outputId": "bc5bda88-72b1-4ff7-dd39-25c0264093a9"
      },
      "execution_count": 16,
      "outputs": [
        {
          "output_type": "execute_result",
          "data": {
            "text/plain": [
              "<Figure size 432x288 with 1 Axes>"
            ],
            "image/png": "[encoded data removed]"
          },
          "metadata": {},
          "execution_count": 16
        }
      ]
    },
    {
      "cell_type": "markdown",
      "source": [
        "BAR PLOT"
      ],
      "metadata": {
        "id": "MH1xF3hv6l_a"
      }
    },
    {
      "cell_type": "code",
      "source": [
        "# load packages\n",
        "import matplotlib as mpl\n",
        "import matplotlib.pyplot as plt\n",
        "import numpy as np\n",
        "\n",
        "# prepare some data\n",
        "np.random.seed(42)\n",
        "data1 = np.random.randn(100)\n",
        "data2 = np.random.randn(100)\n",
        "data3 = np.random.randn(100)\n",
        "\n",
        "fig,ax = plt.subplots()\n",
        "brp = ax.bar(x=[1,4,9],   # positions to put the bar to\n",
        "height=(data1.max(),data2.max(),data3.max()),  # height of each bar\n",
        "width=0.5,   # width of the bar\n",
        "edgecolor='black',   # edgecolor of the bar\n",
        "color=['green','red','orange'],    # fill color of the bar\n",
        "yerr=np.array([[0.1,0.1,0.1],[0.15,0.15,0.15]]), # \n",
        "ecolor='red',\n",
        "capsize=5)"
      ],
      "metadata": {
        "colab": {
          "base_uri": "https://localhost:8080/",
          "height": 265
        },
        "id": "U_eh0-0q6ln2",
        "outputId": "65d907b9-c7a5-4132-e8c5-dec7e3f6b2e2"
      },
      "execution_count": 22,
      "outputs": [
        {
          "output_type": "display_data",
          "data": {
            "text/plain": [
              "<Figure size 432x288 with 1 Axes>"
            ],
            "image/png": "[encoded data removed]"
          },
          "metadata": {
            "needs_background": "light"
          }
        }
      ]
    },
    {
      "cell_type": "markdown",
      "source": [
        "SCATTER PLOT"
      ],
      "metadata": {
        "id": "0-HdBcLl9xip"
      }
    },
    {
      "cell_type": "code",
      "source": [
        "fig,ax = plt.subplots()\n",
        "ax.scatter(x=np.arange(10), #vector for x axis\n",
        "y=np.arange(10)+5, #vector for y axis\n",
        "s=np.arange(10)*10, #the size of every point in the plot\n",
        "c=np.random.rand(10),  # make sure c is numeric value (the color of all points in the array)\n",
        "cmap='spring')"
      ],
      "metadata": {
        "colab": {
          "base_uri": "https://localhost:8080/",
          "height": 282
        },
        "id": "HxP6abTP9zCo",
        "outputId": "0708a2ad-8c6a-481e-a4bd-662ba0c3925b"
      },
      "execution_count": 26,
      "outputs": [
        {
          "output_type": "execute_result",
          "data": {
            "text/plain": [
              "<matplotlib.collections.PathCollection at 0x7fb7058a4a00>"
            ]
          },
          "metadata": {},
          "execution_count": 26
        },
        {
          "output_type": "display_data",
          "data": {
            "text/plain": [
              "<Figure size 432x288 with 1 Axes>"
            ],
            "image/png": "[encoded data removed]"
          },
          "metadata": {
            "needs_background": "light"
          }
        }
      ]
    },
    {
      "cell_type": "code",
      "source": [
        "from matplotlib.colors import to_hex,to_rgb,to_rgba\n",
        "a = [to_hex(i) for i in plt.get_cmap('tab20').colors]\n",
        "a"
      ],
      "metadata": {
        "id": "reexphqx-pWn"
      },
      "execution_count": null,
      "outputs": []
    },
    {
      "cell_type": "markdown",
      "source": [
        "HEAT MAP"
      ],
      "metadata": {
        "id": "tu_OM4G-CDDp"
      }
    },
    {
      "cell_type": "code",
      "source": [
        "np.random.seed(42)\n",
        "fig,ax = plt.subplots()\n",
        "ax.imshow(np.random.randn(5,5), cmap='Set1')"
      ],
      "metadata": {
        "colab": {
          "base_uri": "https://localhost:8080/",
          "height": 282
        },
        "id": "wWrBpLnGCBy1",
        "outputId": "81b70629-0906-4fc9-b2f1-7874dc9580ac"
      },
      "execution_count": 74,
      "outputs": [
        {
          "output_type": "execute_result",
          "data": {
            "text/plain": [
              "<matplotlib.image.AxesImage at 0x7fb705112f40>"
            ]
          },
          "metadata": {},
          "execution_count": 74
        },
        {
          "output_type": "display_data",
          "data": {
            "text/plain": [
              "<Figure size 432x288 with 1 Axes>"
            ],
            "image/png": "[encoded data removed]"
          },
          "metadata": {
            "needs_background": "light"
          }
        }
      ]
    },
    {
      "cell_type": "markdown",
      "source": [
        "VIOLIN PLOTS"
      ],
      "metadata": {
        "id": "eknEVaH0SZj6"
      }
    },
    {
      "cell_type": "code",
      "source": [
        "# load packages\n",
        "import matplotlib as mpl\n",
        "import matplotlib.pyplot as plt\n",
        "\n",
        "# set global parameters\n",
        "mpl.rcParams['pdf.fonttype'] = 42\n",
        "mpl.rcParams['ps.fonttype'] = 42\n",
        "mpl.rcParams['font.family'] = 'Arial'\n",
        "# prepare some data for drawing figures\n",
        "import numpy as np\n",
        "\n",
        "np.random.seed(42)\n",
        "data1 = np.random.randn(100)\n",
        "data2 = np.random.randn(100)\n",
        "data3 = np.random.randn(100)"
      ],
      "metadata": {
        "id": "0Cb5t9jNSbJt"
      },
      "execution_count": null,
      "outputs": []
    }
  ]
}